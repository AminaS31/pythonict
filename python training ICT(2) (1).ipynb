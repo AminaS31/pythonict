{
 "cells": [
  {
   "cell_type": "code",
   "execution_count": 1,
   "id": "636127fa",
   "metadata": {
    "scrolled": true
   },
   "outputs": [
    {
     "name": "stdout",
     "output_type": "stream",
     "text": [
      "Hello wold.\n"
     ]
    }
   ],
   "source": [
    "print(\"Hello wold.\")"
   ]
  },
  {
   "cell_type": "code",
   "execution_count": 2,
   "id": "efc813da",
   "metadata": {},
   "outputs": [
    {
     "name": "stdout",
     "output_type": "stream",
     "text": [
      "welcome to"
     ]
    }
   ],
   "source": [
    "print(\"welcome to\",end='')\n"
   ]
  },
  {
   "cell_type": "code",
   "execution_count": 3,
   "id": "bfe41d66",
   "metadata": {},
   "outputs": [
    {
     "name": "stdout",
     "output_type": "stream",
     "text": [
      "233\n"
     ]
    }
   ],
   "source": [
    "print(233)"
   ]
  },
  {
   "cell_type": "code",
   "execution_count": 4,
   "id": "ac3464e4",
   "metadata": {},
   "outputs": [
    {
     "name": "stdout",
     "output_type": "stream",
     "text": [
      "the World of python!"
     ]
    }
   ],
   "source": [
    "print(\"the World of python\",end='!')\n"
   ]
  },
  {
   "cell_type": "code",
   "execution_count": 5,
   "id": "c7d81c75",
   "metadata": {},
   "outputs": [
    {
     "name": "stdout",
     "output_type": "stream",
     "text": [
      "\"Welcome to the world or python\"\n"
     ]
    }
   ],
   "source": [
    "print(\"\\\"Welcome to the world or python\\\"\")"
   ]
  },
  {
   "cell_type": "code",
   "execution_count": 6,
   "id": "aee6e6e1",
   "metadata": {},
   "outputs": [
    {
     "data": {
      "text/plain": [
       "'hai'"
      ]
     },
     "execution_count": 6,
     "metadata": {},
     "output_type": "execute_result"
    }
   ],
   "source": [
    "'hai'"
   ]
  },
  {
   "cell_type": "markdown",
   "id": "5c97a470",
   "metadata": {},
   "source": [
    "\"hello\""
   ]
  },
  {
   "cell_type": "code",
   "execution_count": 7,
   "id": "f981bf6a",
   "metadata": {},
   "outputs": [
    {
     "data": {
      "text/plain": [
       "'2'"
      ]
     },
     "execution_count": 7,
     "metadata": {},
     "output_type": "execute_result"
    }
   ],
   "source": [
    "'2'"
   ]
  },
  {
   "cell_type": "code",
   "execution_count": 8,
   "id": "3b3a45b5",
   "metadata": {},
   "outputs": [
    {
     "name": "stdout",
     "output_type": "stream",
     "text": [
      "200\n"
     ]
    }
   ],
   "source": [
    "fred=200\n",
    "\n",
    "john=fred\n",
    "\n",
    "print(john)"
   ]
  },
  {
   "cell_type": "code",
   "execution_count": 9,
   "id": "6a07d770",
   "metadata": {},
   "outputs": [],
   "source": [
    "z=1+2j"
   ]
  },
  {
   "cell_type": "code",
   "execution_count": 10,
   "id": "331d15f3",
   "metadata": {},
   "outputs": [
    {
     "name": "stdout",
     "output_type": "stream",
     "text": [
      "(1+2j)\n"
     ]
    }
   ],
   "source": [
    "print(z)"
   ]
  },
  {
   "cell_type": "code",
   "execution_count": 11,
   "id": "84eb2bf3",
   "metadata": {},
   "outputs": [
    {
     "data": {
      "text/plain": [
       "complex"
      ]
     },
     "execution_count": 11,
     "metadata": {},
     "output_type": "execute_result"
    }
   ],
   "source": [
    "type(z)"
   ]
  },
  {
   "cell_type": "code",
   "execution_count": 12,
   "id": "6a7665d6",
   "metadata": {},
   "outputs": [],
   "source": [
    "k=\"35\""
   ]
  },
  {
   "cell_type": "code",
   "execution_count": 13,
   "id": "26c464a2",
   "metadata": {},
   "outputs": [
    {
     "data": {
      "text/plain": [
       "str"
      ]
     },
     "execution_count": 13,
     "metadata": {},
     "output_type": "execute_result"
    }
   ],
   "source": [
    "type(k)"
   ]
  },
  {
   "cell_type": "code",
   "execution_count": 14,
   "id": "59dd44b3",
   "metadata": {},
   "outputs": [],
   "source": [
    "k=35"
   ]
  },
  {
   "cell_type": "code",
   "execution_count": 15,
   "id": "a3ee9294",
   "metadata": {},
   "outputs": [
    {
     "data": {
      "text/plain": [
       "int"
      ]
     },
     "execution_count": 15,
     "metadata": {},
     "output_type": "execute_result"
    }
   ],
   "source": [
    "type(k)"
   ]
  },
  {
   "cell_type": "code",
   "execution_count": 16,
   "id": "8db51cd1",
   "metadata": {},
   "outputs": [],
   "source": [
    "l=(2,\"hai\")"
   ]
  },
  {
   "cell_type": "code",
   "execution_count": 17,
   "id": "2aeb7099",
   "metadata": {},
   "outputs": [
    {
     "data": {
      "text/plain": [
       "tuple"
      ]
     },
     "execution_count": 17,
     "metadata": {},
     "output_type": "execute_result"
    }
   ],
   "source": [
    "type(l)"
   ]
  },
  {
   "cell_type": "code",
   "execution_count": 18,
   "id": "7ab1ac62",
   "metadata": {},
   "outputs": [
    {
     "data": {
      "text/plain": [
       "'hai'"
      ]
     },
     "execution_count": 18,
     "metadata": {},
     "output_type": "execute_result"
    }
   ],
   "source": [
    "l[1]"
   ]
  },
  {
   "cell_type": "code",
   "execution_count": 19,
   "id": "fd0557b5",
   "metadata": {},
   "outputs": [],
   "source": [
    "x=complex(1,2)"
   ]
  },
  {
   "cell_type": "code",
   "execution_count": 20,
   "id": "82bea19e",
   "metadata": {},
   "outputs": [
    {
     "name": "stdout",
     "output_type": "stream",
     "text": [
      "(1+2j)\n"
     ]
    }
   ],
   "source": [
    "print(x)"
   ]
  },
  {
   "cell_type": "code",
   "execution_count": 21,
   "id": "3335204f",
   "metadata": {},
   "outputs": [
    {
     "name": "stdout",
     "output_type": "stream",
     "text": [
      "Enter first number2\n",
      "Enter second number4\n",
      "sum is : 6.0\n"
     ]
    }
   ],
   "source": [
    "var1=float(input(\"Enter first number\"))\n",
    "\n",
    "var2=float(input(\"Enter second number\"))\n",
    "\n",
    "sum=var1+var2\n",
    "\n",
    "print(\"sum is :\",sum)\n"
   ]
  },
  {
   "cell_type": "markdown",
   "id": "83b9e5d5",
   "metadata": {},
   "source": [
    "# string"
   ]
  },
  {
   "cell_type": "code",
   "execution_count": 22,
   "id": "e0c4b5fc",
   "metadata": {},
   "outputs": [
    {
     "name": "stdout",
     "output_type": "stream",
     "text": [
      "python\n",
      "python\n",
      "python\n",
      "\n"
     ]
    }
   ],
   "source": [
    "print(\"python\\n\"*3)"
   ]
  },
  {
   "cell_type": "code",
   "execution_count": 23,
   "id": "ed70dc16",
   "metadata": {},
   "outputs": [
    {
     "name": "stdout",
     "output_type": "stream",
     "text": [
      "What is your name ? hi\n",
      "Hello  hi\n"
     ]
    }
   ],
   "source": [
    "forename=input(\"What is your name ? \")\n",
    "\n",
    "print(\"Hello \",forename)"
   ]
  },
  {
   "cell_type": "code",
   "execution_count": 24,
   "id": "445ebfee",
   "metadata": {},
   "outputs": [],
   "source": [
    "s=\"Python\""
   ]
  },
  {
   "cell_type": "code",
   "execution_count": 25,
   "id": "28149722",
   "metadata": {},
   "outputs": [
    {
     "name": "stdout",
     "output_type": "stream",
     "text": [
      "Pyth\n"
     ]
    }
   ],
   "source": [
    "print(s[0:4])"
   ]
  },
  {
   "cell_type": "code",
   "execution_count": 26,
   "id": "b3a941ac",
   "metadata": {},
   "outputs": [
    {
     "name": "stdout",
     "output_type": "stream",
     "text": [
      "Pyt\n"
     ]
    }
   ],
   "source": [
    "print(s[:3])"
   ]
  },
  {
   "cell_type": "code",
   "execution_count": 27,
   "id": "dc1adeed",
   "metadata": {},
   "outputs": [
    {
     "name": "stdout",
     "output_type": "stream",
     "text": [
      "yth\n"
     ]
    }
   ],
   "source": [
    "print(s[-5:-2])"
   ]
  },
  {
   "cell_type": "code",
   "execution_count": 28,
   "id": "c01a8284",
   "metadata": {},
   "outputs": [
    {
     "name": "stdout",
     "output_type": "stream",
     "text": [
      "Pto\n"
     ]
    }
   ],
   "source": [
    "print(s[0:6:2])"
   ]
  },
  {
   "cell_type": "code",
   "execution_count": 29,
   "id": "d2b481fe",
   "metadata": {},
   "outputs": [
    {
     "name": "stdout",
     "output_type": "stream",
     "text": [
      "nohtyP\n"
     ]
    }
   ],
   "source": [
    "print(s[::-1])"
   ]
  },
  {
   "cell_type": "code",
   "execution_count": 30,
   "id": "cff0ee6a",
   "metadata": {},
   "outputs": [
    {
     "name": "stdout",
     "output_type": "stream",
     "text": [
      "yt\n"
     ]
    }
   ],
   "source": [
    "print(s[1:3])"
   ]
  },
  {
   "cell_type": "code",
   "execution_count": 31,
   "id": "9156af23",
   "metadata": {},
   "outputs": [
    {
     "name": "stdout",
     "output_type": "stream",
     "text": [
      "Python\n"
     ]
    }
   ],
   "source": [
    "print(s.capitalize())"
   ]
  },
  {
   "cell_type": "code",
   "execution_count": 32,
   "id": "a52c3779",
   "metadata": {},
   "outputs": [
    {
     "name": "stdout",
     "output_type": "stream",
     "text": [
      "python\n"
     ]
    }
   ],
   "source": [
    "print(s.lower())"
   ]
  },
  {
   "cell_type": "code",
   "execution_count": 33,
   "id": "4ba38886",
   "metadata": {},
   "outputs": [
    {
     "name": "stdout",
     "output_type": "stream",
     "text": [
      "PYTHON\n"
     ]
    }
   ],
   "source": [
    "print(s.upper())"
   ]
  },
  {
   "cell_type": "code",
   "execution_count": 34,
   "id": "e8286417",
   "metadata": {},
   "outputs": [
    {
     "name": "stdout",
     "output_type": "stream",
     "text": [
      "pYTHON\n"
     ]
    }
   ],
   "source": [
    "print(s.swapcase())"
   ]
  },
  {
   "cell_type": "markdown",
   "id": "c835801b",
   "metadata": {},
   "source": [
    "# OPERATOR"
   ]
  },
  {
   "cell_type": "code",
   "execution_count": 35,
   "id": "273bc367",
   "metadata": {},
   "outputs": [
    {
     "name": "stdout",
     "output_type": "stream",
     "text": [
      "Enter first variable: 10\n",
      "Enter the second variable: 19\n",
      "results are: \n",
      "addition:  29\n",
      "subtraction:  -9\n",
      "multiplication:  190\n",
      "division:  0.5263157894736842\n",
      "reminder:  10\n",
      "exponential:  10000000000000000000\n",
      "floor division:  0\n"
     ]
    }
   ],
   "source": [
    "var1=int(input(\"Enter first variable: \"))\n",
    "\n",
    "var2=int(input(\"Enter the second variable: \"))\n",
    "\n",
    "add=var1+var2\n",
    "\n",
    "sub=var1-var2\n",
    "\n",
    "mul=var1*var2\n",
    "\n",
    "div=var1/var2\n",
    "\n",
    "mod=var1%var2\n",
    "\n",
    "exp=var1**var2\n",
    "\n",
    "flr=var1//var2\n",
    "\n",
    "print(\"results are: \")\n",
    "\n",
    "print(\"addition: \",add)\n",
    "\n",
    "print(\"subtraction: \",sub)\n",
    "\n",
    "print(\"multiplication: \",mul)\n",
    "\n",
    "print(\"division: \",div)\n",
    "\n",
    "print(\"reminder: \",mod)\n",
    "\n",
    "print(\"exponential: \",exp)\n",
    "\n",
    "print(\"floor division: \",flr)\n"
   ]
  },
  {
   "cell_type": "code",
   "execution_count": 36,
   "id": "401b4296",
   "metadata": {},
   "outputs": [
    {
     "name": "stdout",
     "output_type": "stream",
     "text": [
      "please enter the side of a square12\n",
      "the area of square is:  144\n"
     ]
    }
   ],
   "source": [
    "side=int(input(\"please enter the side of a square\"))\n",
    "\n",
    "area=side**2\n",
    "\n",
    "print(\"the area of square is: \",area)"
   ]
  },
  {
   "cell_type": "code",
   "execution_count": 37,
   "id": "3e673b3c",
   "metadata": {},
   "outputs": [
    {
     "name": "stdout",
     "output_type": "stream",
     "text": [
      "Enter base triangle: 12\n",
      "Enter heigth of triangle: 2\n",
      "area is : 12.0\n"
     ]
    }
   ],
   "source": [
    "b=int(input(\"Enter base triangle: \"))\n",
    "\n",
    "h=int(input(\"Enter heigth of triangle: \"))\n",
    "\n",
    "a=1/2*b*h\n",
    "\n",
    "print(\"area is :\",a)"
   ]
  },
  {
   "cell_type": "code",
   "execution_count": 38,
   "id": "2f6c0de2",
   "metadata": {},
   "outputs": [
    {
     "name": "stdout",
     "output_type": "stream",
     "text": [
      "Enter basic salary: 12333\n",
      "traval allowance:  369.99\n",
      "special allowance:  863.3100000000001\n",
      "monthly salary :  13566.3\n"
     ]
    }
   ],
   "source": [
    "sal=int(input(\"Enter basic salary: \"))\n",
    "\n",
    "ta=3/100*sal\n",
    "\n",
    "sa=7/100*sal\n",
    "\n",
    "ms=sal+ta+sa\n",
    "\n",
    "print(\"traval allowance: \",ta)\n",
    "\n",
    "print(\"special allowance: \",sa)\n",
    "\n",
    "print(\"monthly salary : \",ms)"
   ]
  },
  {
   "cell_type": "markdown",
   "id": "2b6a8f8c",
   "metadata": {},
   "source": [
    "# List"
   ]
  },
  {
   "cell_type": "code",
   "execution_count": 39,
   "id": "e0576d8e",
   "metadata": {},
   "outputs": [
    {
     "name": "stdout",
     "output_type": "stream",
     "text": [
      "['mango', 'orange', 'pinapple']\n"
     ]
    }
   ],
   "source": [
    "l1=[\"mango\",\"orange\",\"pinapple\"]\n",
    "\n",
    "l2=[\"carrot\",\"cucumber\",\"brinjal\"]\n",
    "\n",
    "l1+l2\n",
    "\n",
    "print(l1)"
   ]
  },
  {
   "cell_type": "code",
   "execution_count": 40,
   "id": "0d37d030",
   "metadata": {},
   "outputs": [
    {
     "data": {
      "text/plain": [
       "['mango', 'orange', 'pinapple', ['carrot', 'cucumber', 'brinjal']]"
      ]
     },
     "execution_count": 40,
     "metadata": {},
     "output_type": "execute_result"
    }
   ],
   "source": [
    "l1.append(l2)\n",
    "\n",
    "l1"
   ]
  },
  {
   "cell_type": "code",
   "execution_count": 41,
   "id": "b7c85da5",
   "metadata": {},
   "outputs": [
    {
     "data": {
      "text/plain": [
       "['mango',\n",
       " 'orange',\n",
       " 'pinapple',\n",
       " ['carrot', 'cucumber', 'brinjal'],\n",
       " 'carrot',\n",
       " 'cucumber',\n",
       " 'brinjal']"
      ]
     },
     "execution_count": 41,
     "metadata": {},
     "output_type": "execute_result"
    }
   ],
   "source": [
    "l1.extend(l2)\n",
    "\n",
    "l1"
   ]
  },
  {
   "cell_type": "code",
   "execution_count": 42,
   "id": "7646a78c",
   "metadata": {},
   "outputs": [
    {
     "data": {
      "text/plain": [
       "[3, 5, 6, 9]"
      ]
     },
     "execution_count": 42,
     "metadata": {},
     "output_type": "execute_result"
    }
   ],
   "source": [
    "list1=[9,6,3,5]\n",
    "\n",
    "list1.sort()\n",
    "\n",
    "list1\n"
   ]
  },
  {
   "cell_type": "code",
   "execution_count": 43,
   "id": "3bb97390",
   "metadata": {},
   "outputs": [
    {
     "data": {
      "text/plain": [
       "(2, 'hai')"
      ]
     },
     "execution_count": 43,
     "metadata": {},
     "output_type": "execute_result"
    }
   ],
   "source": [
    "l"
   ]
  },
  {
   "cell_type": "code",
   "execution_count": 44,
   "id": "93121cc9",
   "metadata": {},
   "outputs": [
    {
     "data": {
      "text/plain": [
       "['brinjal',\n",
       " 'cucumber',\n",
       " 'carrot',\n",
       " ['carrot', 'cucumber', 'brinjal'],\n",
       " 'pinapple',\n",
       " 'orange',\n",
       " 'mango']"
      ]
     },
     "execution_count": 44,
     "metadata": {},
     "output_type": "execute_result"
    }
   ],
   "source": [
    "l1.reverse()\n",
    "\n",
    "l1"
   ]
  },
  {
   "cell_type": "code",
   "execution_count": 45,
   "id": "15db9612",
   "metadata": {},
   "outputs": [
    {
     "data": {
      "text/plain": [
       "[9, 6, 5, 3]"
      ]
     },
     "execution_count": 45,
     "metadata": {},
     "output_type": "execute_result"
    }
   ],
   "source": [
    "list1.reverse()\n",
    "list1"
   ]
  },
  {
   "cell_type": "code",
   "execution_count": 46,
   "id": "99f4827a",
   "metadata": {},
   "outputs": [],
   "source": [
    "list3=['mango','orange','pineapple','carrot','cucumber','brinjal']"
   ]
  },
  {
   "cell_type": "code",
   "execution_count": 47,
   "id": "f86a9006",
   "metadata": {},
   "outputs": [],
   "source": [
    "list3.insert(2,'lemon')"
   ]
  },
  {
   "cell_type": "code",
   "execution_count": 48,
   "id": "c40294e4",
   "metadata": {},
   "outputs": [
    {
     "data": {
      "text/plain": [
       "['mango', 'orange', 'lemon', 'pineapple', 'carrot', 'cucumber', 'brinjal']"
      ]
     },
     "execution_count": 48,
     "metadata": {},
     "output_type": "execute_result"
    }
   ],
   "source": [
    "list3"
   ]
  },
  {
   "cell_type": "code",
   "execution_count": 49,
   "id": "24617847",
   "metadata": {},
   "outputs": [
    {
     "data": {
      "text/plain": [
       "['mango', 'orange', 'lemon', 'pineapple', 'carrot', 'cucumber', 'brinjal']"
      ]
     },
     "execution_count": 49,
     "metadata": {},
     "output_type": "execute_result"
    }
   ],
   "source": [
    "list3"
   ]
  },
  {
   "cell_type": "code",
   "execution_count": 50,
   "id": "7e82bf4e",
   "metadata": {},
   "outputs": [
    {
     "data": {
      "text/plain": [
       "7"
      ]
     },
     "execution_count": 50,
     "metadata": {},
     "output_type": "execute_result"
    }
   ],
   "source": [
    "len(list3)"
   ]
  },
  {
   "cell_type": "code",
   "execution_count": 51,
   "id": "a899b924",
   "metadata": {},
   "outputs": [
    {
     "data": {
      "text/plain": [
       "['lemon', 'pineapple']"
      ]
     },
     "execution_count": 51,
     "metadata": {},
     "output_type": "execute_result"
    }
   ],
   "source": [
    "list3[2:4]"
   ]
  },
  {
   "cell_type": "code",
   "execution_count": 52,
   "id": "59dff452",
   "metadata": {},
   "outputs": [
    {
     "data": {
      "text/plain": [
       "['mango', 'lemon', 'pineapple', 'carrot', 'cucumber', 'brinjal']"
      ]
     },
     "execution_count": 52,
     "metadata": {},
     "output_type": "execute_result"
    }
   ],
   "source": [
    "list3.pop(1)\n",
    "\n",
    "list3"
   ]
  },
  {
   "cell_type": "markdown",
   "id": "4652c975",
   "metadata": {},
   "source": [
    "# Dictionary"
   ]
  },
  {
   "cell_type": "code",
   "execution_count": 53,
   "id": "ebd5626f",
   "metadata": {},
   "outputs": [],
   "source": [
    "dict1={\"name\":\"AMINA\",\n",
    "      \"age\":21,\n",
    "      \"nation\":\"India\"}"
   ]
  },
  {
   "cell_type": "code",
   "execution_count": 54,
   "id": "185d7479",
   "metadata": {},
   "outputs": [],
   "source": [
    "dict1[\"email\"]=\"ami@gmail.com\""
   ]
  },
  {
   "cell_type": "code",
   "execution_count": 55,
   "id": "1d2a4358",
   "metadata": {},
   "outputs": [
    {
     "data": {
      "text/plain": [
       "{'name': 'AMINA', 'age': 21, 'nation': 'India', 'email': 'ami@gmail.com'}"
      ]
     },
     "execution_count": 55,
     "metadata": {},
     "output_type": "execute_result"
    }
   ],
   "source": [
    "dict1"
   ]
  },
  {
   "cell_type": "markdown",
   "id": "67548853",
   "metadata": {},
   "source": [
    "# CONDITION"
   ]
  },
  {
   "cell_type": "code",
   "execution_count": 56,
   "id": "e47f5f79",
   "metadata": {},
   "outputs": [
    {
     "name": "stdout",
     "output_type": "stream",
     "text": [
      "Enter first number : 1\n",
      "Enter second number : 2\n",
      "Enter third number : 3\n",
      "3 is larger\n"
     ]
    }
   ],
   "source": [
    "a=int(input(\"Enter first number : \"))\n",
    "\n",
    "b=int(input(\"Enter second number : \"))\n",
    "\n",
    "c=int(input(\"Enter third number : \"))\n",
    "\n",
    "if a>b and a>c:\n",
    "    \n",
    "    print(f\"{a} is larger\" )\n",
    "    \n",
    "elif b>a and b>c:\n",
    "    \n",
    "    print(f\"{b} is larger\")\n",
    "    \n",
    "else:\n",
    "    \n",
    "    print(f\"{c} is larger\")\n",
    "  \n"
   ]
  },
  {
   "cell_type": "code",
   "execution_count": 57,
   "id": "5bd9ebf1",
   "metadata": {},
   "outputs": [
    {
     "name": "stdout",
     "output_type": "stream",
     "text": [
      "Enter first number : 3\n",
      "Enter second number : 1\n",
      "Enter third number : 4\n",
      "all are different number.\n"
     ]
    }
   ],
   "source": [
    "a=int(input(\"Enter first number : \"))\n",
    "\n",
    "b=int(input(\"Enter second number : \"))\n",
    "\n",
    "c=int(input(\"Enter third number : \"))\n",
    "\n",
    "if a==b:\n",
    "\n",
    "  print(\"first number is equal to second number. \")\n",
    "         \n",
    "elif b==c:\n",
    "   \n",
    "    print(\"second number is equal to third number.\")\n",
    "\n",
    "elif a==c:\n",
    "    \n",
    "    print(\"first number is equal to third number.\")\n",
    "\n",
    "else:\n",
    "    \n",
    "    print(\"all are different number.\")\n",
    "         \n"
   ]
  },
  {
   "cell_type": "code",
   "execution_count": 58,
   "id": "30f9369c",
   "metadata": {},
   "outputs": [
    {
     "name": "stdout",
     "output_type": "stream",
     "text": [
      "Enter a number : 7\n",
      "7 is odd.\n"
     ]
    }
   ],
   "source": [
    "num=int(input(\"Enter a number : \"))\n",
    "\n",
    "if(num%2)==0 and num !=0:\n",
    "    \n",
    "    print(f\"{num} is even.\")\n",
    "          \n",
    "elif num==0:\n",
    "    \n",
    "    print(\"number is zero.\")\n",
    "          \n",
    "          \n",
    "else:\n",
    "    \n",
    "    print(f\"{num} is odd.\")\n",
    "          \n",
    "\n"
   ]
  },
  {
   "cell_type": "markdown",
   "id": "191cdfda",
   "metadata": {},
   "source": [
    "# loops"
   ]
  },
  {
   "cell_type": "markdown",
   "id": "d29cc883",
   "metadata": {},
   "source": [
    "for"
   ]
  },
  {
   "cell_type": "code",
   "execution_count": 59,
   "id": "34e4f823",
   "metadata": {},
   "outputs": [
    {
     "name": "stdout",
     "output_type": "stream",
     "text": [
      "This is apple\n",
      "This is orange\n",
      "This is grape\n"
     ]
    }
   ],
   "source": [
    "fruits=['apple','orange','grape']\n",
    "\n",
    "for item in fruits:\n",
    "    \n",
    "    print(\"This is \"+item)"
   ]
  },
  {
   "cell_type": "code",
   "execution_count": 60,
   "id": "730a4936",
   "metadata": {},
   "outputs": [
    {
     "name": "stdout",
     "output_type": "stream",
     "text": [
      "The sum of the list is 10\n"
     ]
    }
   ],
   "source": [
    "a=[1,2,3,4]\n",
    "\n",
    "sum=0\n",
    "\n",
    "for i in a:\n",
    "    \n",
    "    sum=sum+i\n",
    "    \n",
    "print(f\"The sum of the list is {sum}\")"
   ]
  },
  {
   "cell_type": "code",
   "execution_count": 61,
   "id": "18668223",
   "metadata": {},
   "outputs": [
    {
     "name": "stdout",
     "output_type": "stream",
     "text": [
      "cube of 5 is 125\n",
      "cube of 4 is 64\n",
      "cube of 10 is 1000\n",
      "cube of 9 is 729\n",
      "cube of 3 is 27\n",
      "cube of 2 is 8\n",
      "cube of 6 is 216\n",
      "cube of 8 is 512\n"
     ]
    }
   ],
   "source": [
    "num=[5,4,10,9,3,2,6,8]\n",
    "\n",
    "for i in num:\n",
    "    \n",
    "    print(f\"cube of {i} is \",end=\"\")\n",
    "    \n",
    "    i=i**3\n",
    "    \n",
    "    print(i)"
   ]
  },
  {
   "cell_type": "code",
   "execution_count": 62,
   "id": "726133e6",
   "metadata": {},
   "outputs": [
    {
     "name": "stdout",
     "output_type": "stream",
     "text": [
      "35\n",
      "42\n",
      "49\n",
      "56\n",
      "63\n"
     ]
    }
   ],
   "source": [
    "for i in range(30,67):\n",
    "    \n",
    "    if(i%7==0):\n",
    "        \n",
    "      print(i)"
   ]
  },
  {
   "cell_type": "code",
   "execution_count": 63,
   "id": "8910c7b7",
   "metadata": {},
   "outputs": [
    {
     "name": "stdout",
     "output_type": "stream",
     "text": [
      "0 \n",
      "1 1 \n",
      "2 2 2 \n",
      "3 3 3 3 \n",
      "4 4 4 4 4 \n",
      "5 5 5 5 5 5 \n"
     ]
    }
   ],
   "source": [
    "\n",
    "\n",
    "for i in range(6):\n",
    "    \n",
    "    for j in range(i+1):\n",
    "        \n",
    "        print(i,end=\" \")\n",
    "        \n",
    "    print()\n",
    "        \n",
    "        "
   ]
  },
  {
   "cell_type": "markdown",
   "id": "adcb0d5b",
   "metadata": {},
   "source": [
    "while "
   ]
  },
  {
   "cell_type": "code",
   "execution_count": 64,
   "id": "7d088b6d",
   "metadata": {},
   "outputs": [
    {
     "name": "stdout",
     "output_type": "stream",
     "text": [
      "1\n",
      "3\n",
      "5\n",
      "7\n",
      "9\n"
     ]
    }
   ],
   "source": [
    "a=1\n",
    "while a<10:\n",
    "    print(a)\n",
    "    a+=2"
   ]
  },
  {
   "cell_type": "code",
   "execution_count": 65,
   "id": "ee5a2fd0",
   "metadata": {},
   "outputs": [
    {
     "name": "stdout",
     "output_type": "stream",
     "text": [
      "odd_list = [3, 5, 37]\n",
      "even_list= [8, 42, 12]\n"
     ]
    }
   ],
   "source": [
    "numbers = [12,37,5,42,8,3]\n",
    "\n",
    "even = []\n",
    "\n",
    "odd = []\n",
    "\n",
    "while len(numbers) > 0 :\n",
    "    \n",
    "    number=numbers.pop()\n",
    "    \n",
    "    if(number % 2 == 0 ):\n",
    "        \n",
    "        even.append(number)\n",
    "        \n",
    "    else:\n",
    "        \n",
    "        odd.append(number)\n",
    "\n",
    "print(f\"odd_list = {odd}\")\n",
    "print(f\"even_list= {even}\")"
   ]
  },
  {
   "cell_type": "code",
   "execution_count": 66,
   "id": "cb973508",
   "metadata": {},
   "outputs": [
    {
     "name": "stdout",
     "output_type": "stream",
     "text": [
      "1 square is  1\n",
      "2 square is  4\n",
      "3 square is  9\n",
      "4 square is  16\n",
      "5 square is  25\n"
     ]
    }
   ],
   "source": [
    "i=1\n",
    "while i<6:\n",
    "    print(f\"{i} square is \",end = \" \")\n",
    "    n=i**2\n",
    "    print(f\"{n}\")\n",
    "    i+=1"
   ]
  },
  {
   "cell_type": "code",
   "execution_count": 67,
   "id": "0038c845",
   "metadata": {},
   "outputs": [
    {
     "name": "stdout",
     "output_type": "stream",
     "text": [
      "Enter 5 number3\n",
      "Enter 5 number4\n",
      "Enter 5 number5\n",
      "Enter 5 number5\n",
      "Enter 5 number6\n",
      "the sum is 23\n",
      "the average is 4.6\n"
     ]
    }
   ],
   "source": [
    "i=1\n",
    "sum=0\n",
    "while i<6:\n",
    "    num=int(input('Enter 5 number'))\n",
    "    sum=sum+num\n",
    "    i+=1\n",
    "print(f\"the sum is {sum}\")\n",
    "avg=sum/5\n",
    "print(f\"the average is {avg}\")"
   ]
  },
  {
   "cell_type": "code",
   "execution_count": 68,
   "id": "73a96346",
   "metadata": {},
   "outputs": [
    {
     "name": "stdout",
     "output_type": "stream",
     "text": [
      "which multiplication table if you want:3\n",
      "Enter the multiplication limit: 5\n",
      " 3 * 1 = 3  \n",
      " 3 * 2 = 6  \n",
      " 3 * 3 = 9  \n",
      " 3 * 4 = 12  \n",
      " 3 * 5 = 15  \n"
     ]
    }
   ],
   "source": [
    "i=1\n",
    "\n",
    "num=int(input(\"which multiplication table if you want:\"))\n",
    "\n",
    "limit=int(input(\"Enter the multiplication limit: \"))\n",
    "\n",
    "\n",
    "while i<limit+1:\n",
    "    \n",
    "  print(f\" {num} * {i} = {i*num} \",end=\" \")\n",
    "\n",
    "  print()\n",
    "    \n",
    "  i+=1\n",
    "\n"
   ]
  },
  {
   "cell_type": "code",
   "execution_count": 69,
   "id": "06de8696",
   "metadata": {},
   "outputs": [
    {
     "name": "stdout",
     "output_type": "stream",
     "text": [
      "Enter the value: 2\n",
      "Enter the value: 4\n",
      "Enter the value: 5\n",
      "Enter the value: 5\n",
      "Enter the value: 6\n",
      "['2', '4', '5', '5', '6']\n"
     ]
    }
   ],
   "source": [
    "a=[]\n",
    "\n",
    "while len(a)<5:\n",
    "    \n",
    "     val=(input(\"Enter the value: \"))\n",
    "        \n",
    "     a.append(val)\n",
    "     \n",
    "        \n",
    "print(a)"
   ]
  },
  {
   "cell_type": "markdown",
   "id": "5d9f561f",
   "metadata": {},
   "source": [
    "# Menu driven"
   ]
  },
  {
   "cell_type": "code",
   "execution_count": 112,
   "id": "29daf256",
   "metadata": {},
   "outputs": [
    {
     "name": "stdout",
     "output_type": "stream",
     "text": [
      "1.calculate the area of a rectangle\n",
      "2.calculate the area of circle\n",
      "3.calulate the area of triangle\n",
      "4.Exit\n",
      "Enter your choice3\n",
      "enter base: 4\n",
      "enter height: 2\n",
      "area of triangle:  4.0\n",
      "1.calculate the area of a rectangle\n",
      "2.calculate the area of circle\n",
      "3.calulate the area of triangle\n",
      "4.Exit\n",
      "Enter your choice5\n",
      "please enter above given choice.\n"
     ]
    }
   ],
   "source": [
    "while True:\n",
    "    \n",
    "    print(\"1.calculate the area of a rectangle\")\n",
    "    \n",
    "    print(\"2.calculate the area of circle\")\n",
    "    \n",
    "    print(\"3.calulate the area of triangle\")\n",
    "    \n",
    "    print(\"4.Exit\")\n",
    "    \n",
    "    choice=int(input(\"Enter your choice\"))\n",
    "    \n",
    "    if choice==1:\n",
    "        le=int(input(\"enter the length: \"))\n",
    "        br=int(input(\"enter the height: \"))\n",
    "        area = le*br\n",
    "        print(\"area of rectangle is : \",area)\n",
    "    elif choice==2:\n",
    "        r=int(input(\"enter the radius: \"))\n",
    "        ar=3.14*r*r\n",
    "        print(\"area of circle : \",ar)\n",
    "        \n",
    "    elif choice==3:\n",
    "        b=int(input(\"enter base: \"))\n",
    "        h=int(input(\"enter height: \"))\n",
    "        a=0.5*b*h\n",
    "        print(\"area of triangle: \",a)\n",
    "    elif choice==4:\n",
    "         print(\"exit\")\n",
    "         break\n",
    "    else:\n",
    "        print(\"please enter above given choice.\")\n",
    "        break"
   ]
  },
  {
   "cell_type": "code",
   "execution_count": 115,
   "id": "d431edf7",
   "metadata": {},
   "outputs": [],
   "source": [
    "def my_fun(fname,lname):\n",
    "    print(\"Hello \"+fname+\" \"+lname)"
   ]
  },
  {
   "cell_type": "code",
   "execution_count": 116,
   "id": "ecb18704",
   "metadata": {},
   "outputs": [
    {
     "name": "stdout",
     "output_type": "stream",
     "text": [
      "Hello ammu anu\n"
     ]
    }
   ],
   "source": [
    "my_fun(\"ammu\",\"anu\")"
   ]
  },
  {
   "cell_type": "code",
   "execution_count": 117,
   "id": "ee24495b",
   "metadata": {},
   "outputs": [],
   "source": [
    "# parameter as tuple format"
   ]
  },
  {
   "cell_type": "code",
   "execution_count": 118,
   "id": "2461eb90",
   "metadata": {},
   "outputs": [],
   "source": [
    "def show_name(*names):\n",
    "    print(\"first name is \"+names[0])\n",
    "    print(\"last name is \"+names[1])\n",
    "    print(\"email name is \"+names[2])"
   ]
  },
  {
   "cell_type": "code",
   "execution_count": 119,
   "id": "17303c94",
   "metadata": {},
   "outputs": [
    {
     "name": "stdout",
     "output_type": "stream",
     "text": [
      "first name is ammu\n",
      "last name is anu\n",
      "email name is anu15@gmail.com\n"
     ]
    }
   ],
   "source": [
    "show_name(\"ammu\",\"anu\",\"anu15@gmail.com\")"
   ]
  },
  {
   "cell_type": "code",
   "execution_count": 120,
   "id": "e7b7dda0",
   "metadata": {},
   "outputs": [],
   "source": [
    "def show_ch(child3,child2,child1):\n",
    "    print(\"Youngest child is \"+child3)"
   ]
  },
  {
   "cell_type": "code",
   "execution_count": 121,
   "id": "c48d1c0d",
   "metadata": {},
   "outputs": [
    {
     "name": "stdout",
     "output_type": "stream",
     "text": [
      "Youngest child is tinu\n"
     ]
    }
   ],
   "source": [
    "show_ch(child1=\"minu\",child2=\"vinu\",child3=\"tinu\")"
   ]
  },
  {
   "cell_type": "code",
   "execution_count": 122,
   "id": "ba6206bf",
   "metadata": {},
   "outputs": [],
   "source": [
    "# parameter as dictionary"
   ]
  },
  {
   "cell_type": "code",
   "execution_count": 178,
   "id": "97088dfb",
   "metadata": {},
   "outputs": [],
   "source": [
    "def show_chi(**kids):\n",
    "             \n",
    "    print(\"last name is \"+kids['lname'])"
   ]
  },
  {
   "cell_type": "code",
   "execution_count": 179,
   "id": "a4628cc2",
   "metadata": {},
   "outputs": [
    {
     "name": "stdout",
     "output_type": "stream",
     "text": [
      "last name is mohan\n"
     ]
    }
   ],
   "source": [
    "show_chi(fname=\"asha\",lname=\"mohan\")"
   ]
  },
  {
   "cell_type": "markdown",
   "id": "18f0d29c",
   "metadata": {},
   "source": [
    "# Default parameter"
   ]
  },
  {
   "cell_type": "code",
   "execution_count": 125,
   "id": "03019f6e",
   "metadata": {},
   "outputs": [],
   "source": [
    "def my_country(country=\"India\"):\n",
    "    print(\"I am from \"+country)"
   ]
  },
  {
   "cell_type": "code",
   "execution_count": 126,
   "id": "44a69743",
   "metadata": {},
   "outputs": [
    {
     "name": "stdout",
     "output_type": "stream",
     "text": [
      "I am from Nepal\n",
      "I am from Australia\n",
      "I am from India\n",
      "I am from brazil\n"
     ]
    }
   ],
   "source": [
    "my_country(\"Nepal\")\n",
    "\n",
    "my_country(\"Australia\")\n",
    "\n",
    "my_country()\n",
    "\n",
    "my_country(\"brazil\")"
   ]
  },
  {
   "cell_type": "markdown",
   "id": "5e466c34",
   "metadata": {},
   "source": [
    "create a function to print the list items"
   ]
  },
  {
   "cell_type": "code",
   "execution_count": 133,
   "id": "87d950ca",
   "metadata": {},
   "outputs": [
    {
     "name": "stdout",
     "output_type": "stream",
     "text": [
      "1\n",
      "2\n",
      "3\n"
     ]
    }
   ],
   "source": [
    "list_name=['1','2','3']\n",
    "\n",
    "def fun_name(arg):\n",
    "    \n",
    "    for list_name in arg:\n",
    "        \n",
    "       print(list_name)\n",
    "    \n",
    "fun_name(list_name) "
   ]
  },
  {
   "cell_type": "markdown",
   "id": "b680fa75",
   "metadata": {},
   "source": [
    "create a function to print the key,value of dictionary items"
   ]
  },
  {
   "cell_type": "code",
   "execution_count": 150,
   "id": "f4e3a6b9",
   "metadata": {},
   "outputs": [],
   "source": [
    "mydict={\"brand\":\"audi\",\"color\":\"black\",\"price\":10000000}"
   ]
  },
  {
   "cell_type": "code",
   "execution_count": 151,
   "id": "5b96f21e",
   "metadata": {},
   "outputs": [],
   "source": [
    "def show_dict(car):\n",
    "    \n",
    "    for i in car:\n",
    "        \n",
    "        print(i,\" is \",car[i])"
   ]
  },
  {
   "cell_type": "code",
   "execution_count": 152,
   "id": "b8d02942",
   "metadata": {},
   "outputs": [
    {
     "name": "stdout",
     "output_type": "stream",
     "text": [
      "brand  is  audi\n",
      "color  is  black\n",
      "price  is  1000000\n"
     ]
    }
   ],
   "source": [
    "show_dict(mydict)"
   ]
  },
  {
   "cell_type": "code",
   "execution_count": 158,
   "id": "d5f2f466",
   "metadata": {},
   "outputs": [],
   "source": [
    "mydict={\"brand\":\"audi\",\"color\":\"black\",\"price\":10000000}"
   ]
  },
  {
   "cell_type": "code",
   "execution_count": 159,
   "id": "ae1a819b",
   "metadata": {},
   "outputs": [],
   "source": [
    "def show_dict(car):\n",
    "    \n",
    "    for ke,val in car.items():\n",
    "        \n",
    "        print(ke,\"is \",val)"
   ]
  },
  {
   "cell_type": "code",
   "execution_count": 160,
   "id": "6bd2660e",
   "metadata": {},
   "outputs": [
    {
     "name": "stdout",
     "output_type": "stream",
     "text": [
      "brand is  audi\n",
      "color is  black\n",
      "price is  10000000\n"
     ]
    }
   ],
   "source": [
    "show_dict(mydict)"
   ]
  },
  {
   "cell_type": "code",
   "execution_count": 164,
   "id": "80a1d8bb",
   "metadata": {},
   "outputs": [
    {
     "name": "stdout",
     "output_type": "stream",
     "text": [
      "2.5\n"
     ]
    }
   ],
   "source": [
    "def add(x,y):\n",
    "    \n",
    "    return x+y\n",
    "\n",
    "sum=add(3,2)\n",
    "\n",
    "avg=sum/2\n",
    "\n",
    "print(avg)"
   ]
  },
  {
   "cell_type": "markdown",
   "id": "44e0cea2",
   "metadata": {},
   "source": [
    "# oop"
   ]
  },
  {
   "cell_type": "code",
   "execution_count": 165,
   "id": "2877ced1",
   "metadata": {},
   "outputs": [
    {
     "name": "stdout",
     "output_type": "stream",
     "text": [
      "5\n"
     ]
    }
   ],
   "source": [
    "class MyClass:\n",
    "    \n",
    "    x=5\n",
    "\n",
    "obj1=MyClass()\n",
    "\n",
    "print(obj1.x)\n"
   ]
  },
  {
   "cell_type": "code",
   "execution_count": 168,
   "id": "bada74a7",
   "metadata": {},
   "outputs": [
    {
     "name": "stdout",
     "output_type": "stream",
     "text": [
      "John\n",
      "34\n"
     ]
    }
   ],
   "source": [
    "class person:\n",
    "    \n",
    "    def __init__(self,na,ag):\n",
    "        \n",
    "        self.name=na\n",
    "        \n",
    "        self.age=ag\n",
    "        \n",
    "obj2=person(\"John\",34)\n",
    "\n",
    "print(obj2.name)\n",
    "\n",
    "print(obj2.age)"
   ]
  },
  {
   "cell_type": "code",
   "execution_count": 172,
   "id": "5681ba0d",
   "metadata": {},
   "outputs": [
    {
     "name": "stdout",
     "output_type": "stream",
     "text": [
      "car has 4 wheels 5 seats and  4 light\n",
      "auto has 3 wheels 4 seats and 4 lights\n",
      "cycle has 2 wheels 1 seats and 1 lights\n"
     ]
    }
   ],
   "source": [
    "class vehicle:\n",
    "    \n",
    "    light=4\n",
    "    \n",
    "    def __init__(self,name,num,seat):\n",
    "        \n",
    "        self.nam = name\n",
    "        \n",
    "        self.wheels = num\n",
    "        \n",
    "        self.seats = seat\n",
    "        \n",
    "vehicle1 = vehicle(\"car\",4,5)\n",
    "\n",
    "vehicle2 = vehicle(\"auto\",3,4)\n",
    "\n",
    "vehicle3 = vehicle(\"cycle\",2,1)\n",
    "\n",
    "print(vehicle1.nam,\"has\",vehicle1.wheels,\"wheels\",vehicle1.seats,\"seats and \",vehicle1.light,\"light\")\n",
    "\n",
    "\n",
    "print(vehicle2.nam,\"has\",vehicle2.wheels,\"wheels\",vehicle2.seats,\"seats and\",vehicle2.light,\"lights\")\n",
    "\n",
    "vehicle.light=1\n",
    "\n",
    "print(vehicle3.nam,\"has\",vehicle3.wheels,\"wheels\",vehicle3.seats,\"seats and\",vehicle3.light,\"lights\")"
   ]
  },
  {
   "cell_type": "code",
   "execution_count": 177,
   "id": "59b378cf",
   "metadata": {},
   "outputs": [
    {
     "name": "stdout",
     "output_type": "stream",
     "text": [
      "hello John\n"
     ]
    }
   ],
   "source": [
    "class person:\n",
    "    \n",
    "    def __init__(self,n,a):\n",
    "        \n",
    "        self.name=n\n",
    "        \n",
    "        self.age=a\n",
    "        \n",
    "    def greet(self):\n",
    "        \n",
    "        print(\"hello \"+self.name)\n",
    "    \n",
    "obj2=person(\"John\",34)\n",
    "    \n",
    "obj2.greet()"
   ]
  },
  {
   "cell_type": "code",
   "execution_count": null,
   "id": "63f65b43",
   "metadata": {},
   "outputs": [],
   "source": []
  }
 ],
 "metadata": {
  "kernelspec": {
   "display_name": "Python 3 (ipykernel)",
   "language": "python",
   "name": "python3"
  },
  "language_info": {
   "codemirror_mode": {
    "name": "ipython",
    "version": 3
   },
   "file_extension": ".py",
   "mimetype": "text/x-python",
   "name": "python",
   "nbconvert_exporter": "python",
   "pygments_lexer": "ipython3",
   "version": "3.9.13"
  }
 },
 "nbformat": 4,
 "nbformat_minor": 5
}
